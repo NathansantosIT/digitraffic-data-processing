{
 "cells": [
  {
   "cell_type": "markdown",
   "metadata": {},
   "source": [
    "# START YOUR DATA ANALYSIS HERE"
   ]
  },
  {
   "cell_type": "code",
   "execution_count": null,
   "metadata": {
    "vscode": {
     "languageId": "plaintext"
    }
   },
   "outputs": [],
   "source": [
    "df_landing = spark.read.format(\"delta\").load(\"/data/landing_zone/trains_travel\")\n",
    "df_standard = spark.read.format(\"delta\").load(\"/data/standard_zone/trains_travel\")\n",
    "df_quality = spark.read.format(\"delta\").load(\"/data/quality_zone/trains_travel\")"
   ]
  }
 ],
 "metadata": {
  "language_info": {
   "name": "python"
  }
 },
 "nbformat": 4,
 "nbformat_minor": 2
}
